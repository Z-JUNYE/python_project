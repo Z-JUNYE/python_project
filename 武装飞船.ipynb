{
 "cells": [
  {
   "cell_type": "markdown",
   "id": "b2cf5fe0",
   "metadata": {},
   "source": [
    "### 武装飞船\n",
    "\n",
    "开发一个名为《外星人入侵》的游戏。  \n",
    "将会使用Pygame这个功能强大而且非常有趣的模块。  \n",
    "* 它可以管理游戏制作中用到的图像、动画和声音，能够轻松地开发复杂的游戏。\n",
    "* 使用Pygame来处理在屏幕上绘制图像等人物，有助于将重心放在设计游戏的高级逻辑上。"
   ]
  },
  {
   "cell_type": "markdown",
   "id": "350ae7c3",
   "metadata": {},
   "source": [
    "#### 规划项目\n",
    "在开发大型项目时，先制定好规划再动手编写代码很重要。  \n",
    "规划可以确保不偏离轨道，提高项目成功的可能性。 \n",
    "\n",
    "#### 游戏玩法\n",
    "* 在游戏《外星人入侵》中，玩家控制这一艘最初出现在屏幕底部中央的武装飞船。\n",
    "* 玩家可以使用方向键左右移动飞船，使用空格键进行射击。\n",
    "* 当游戏开始时，一个外星舰队出现在天空中，并想屏幕下方移动。\n",
    "* 玩家的任务是消灭这些外星人。\n",
    "* 玩家将外星人消灭干净后，将出现一个新的外星舰队，其移动速度更快。\n",
    "* 只要外星人撞到玩家的飞船或者到达屏幕下方边缘，玩家就损失一艘飞船。\n",
    "* 玩家损失三艘飞船后，游戏结束。"
   ]
  },
  {
   "cell_type": "markdown",
   "id": "f89f5815",
   "metadata": {},
   "source": [
    "#### 开始游戏项目\n",
    "首先创建一个空的Pygame窗口，稍后在其中绘制游戏元素，如飞船和外星人。  \n",
    "之后，还将让这个游戏响应用户输入，设置背景色，以及加载飞船图像。"
   ]
  },
  {
   "cell_type": "markdown",
   "id": "4c25162e",
   "metadata": {},
   "source": [
    "#### 创建Pygame窗口及响应用户输入\n"
   ]
  },
  {
   "cell_type": "code",
   "execution_count": null,
   "id": "a42056eb",
   "metadata": {},
   "outputs": [],
   "source": [
    "import sys # 玩家退出时，使用sys模块中的工具来退出游戏。\n",
    "import pygame\n",
    "\n",
    "class AlienInvasion:\n",
    "    '''管理游戏资源和行为的类'''\n",
    "    def __init__(self):\n",
    "        '''初始化游戏并创建游戏资源'''\n",
    "        pygame.init()\n",
    "        self.screen = pygame.display.set_mode((1200,800))  # 创建一个显示窗口，赋给self.screen，让类的所有方法都能使用它\n",
    "        # 赋给self.screen的对象是一个surface。 在pygame中，surface是屏幕的一部分，用于显示游戏元素。\n",
    "        pygame.display.set_caption(\"Alien Invasion\")\n",
    "    \n",
    "    def run_game(self):\n",
    "        '''开始游戏的主循环'''\n",
    "        while True:\n",
    "            # 侦听键盘和鼠标事件\n",
    "            for event in pygame.event.get(): # 事件是用户玩游戏时执行的操作，如案件或移动鼠标。为了让程序能够响应事件，可编写一个事件循环。\n",
    "                if event.type == pygame.QUIT: #捕捉到窗口关闭按钮，将检测到QUIT事件\n",
    "                    sys.exit()\n",
    "            \n",
    "            # 让最近绘制的屏幕可见\n",
    "            pygame.display.flip()"
   ]
  },
  {
   "cell_type": "markdown",
   "id": "56753b0a",
   "metadata": {},
   "source": [
    "#### 控制帧率\n",
    "理想情况下，游戏在所有的系统中都应以相同的帧率运行。  \n",
    "对于可在多种系统中运行的游戏，控制帧率是个复杂的问题。\n",
    "* pygame提供了一种简单的方式，创建一个时钟clock，"
   ]
  },
  {
   "cell_type": "code",
   "execution_count": null,
   "id": "0febd24d",
   "metadata": {},
   "outputs": [
    {
     "name": "stdout",
     "output_type": "stream",
     "text": [
      "pygame 2.6.1 (SDL 2.28.4, Python 3.12.7)\n",
      "Hello from the pygame community. https://www.pygame.org/contribute.html\n"
     ]
    }
   ],
   "source": [
    "import sys # 玩家退出时，使用sys模块中的工具来退出游戏。\n",
    "import pygame\n",
    "\n",
    "class AlienInvasion:\n",
    "    '''管理游戏资源和行为的类'''\n",
    "    def __init__(self):\n",
    "        '''初始化游戏并创建游戏资源'''\n",
    "        pygame.init()\n",
    "        self.clock=pygame.time.Clock()\n",
    "        self.screen = pygame.display.set_mode((1200,800))  # 创建一个显示窗口，赋给self.screen，让类的所有方法都能使用它\n",
    "        # 赋给self.screen的对象是一个surface。 在pygame中，surface是屏幕的一部分，用于显示游戏元素。\n",
    "        pygame.display.set_caption(\"Alien Invasion\")\n",
    "    \n",
    "    def run_game(self):\n",
    "        '''开始游戏的主循环'''\n",
    "        while True:\n",
    "            # 侦听键盘和鼠标事件\n",
    "            for event in pygame.event.get(): # 事件是用户玩游戏时执行的操作，如案件或移动鼠标。为了让程序能够响应事件，可编写一个事件循环。\n",
    "                if event.type == pygame.QUIT: #捕捉到窗口关闭按钮，将检测到QUIT事件\n",
    "                    sys.exit()\n",
    "            \n",
    "            # 让最近绘制的屏幕可见\n",
    "            pygame.display.flip()\n",
    "            self.clock.tick(60) # tick方法接受一个参数：游戏的帧率，pygame将尽可能确保这个循环每秒运行60次。"
   ]
  },
  {
   "cell_type": "markdown",
   "id": "b49f65b0",
   "metadata": {},
   "source": [
    "#### 设置背景色\n",
    "pygame默认创建一个黑色屏幕。"
   ]
  },
  {
   "cell_type": "code",
   "execution_count": null,
   "id": "1692c4e5",
   "metadata": {},
   "outputs": [],
   "source": [
    "import sys # 玩家退出时，使用sys模块中的工具来退出游戏。\n",
    "import pygame\n",
    "\n",
    "class AlienInvasion:\n",
    "    '''管理游戏资源和行为的类'''\n",
    "    def __init__(self):\n",
    "        '''初始化游戏并创建游戏资源'''\n",
    "        pygame.init()\n",
    "        self.clock=pygame.time.Clock()\n",
    "        self.screen = pygame.display.set_mode((1200,800))  # 创建一个显示窗口，赋给self.screen，让类的所有方法都能使用它\n",
    "        # 赋给self.screen的对象是一个surface。 在pygame中，surface是屏幕的一部分，用于显示游戏元素。\n",
    "        pygame.display.set_caption(\"Alien Invasion\")\n",
    "        self.bg_color = (230,230,230)\n",
    "    \n",
    "    def run_game(self):\n",
    "        '''开始游戏的主循环'''\n",
    "        while True:\n",
    "            # 侦听键盘和鼠标事件\n",
    "            for event in pygame.event.get(): # 事件是用户玩游戏时执行的操作，如案件或移动鼠标。为了让程序能够响应事件，可编写一个事件循环。\n",
    "                if event.type == pygame.QUIT: #捕捉到窗口关闭按钮，将检测到QUIT事件\n",
    "                    sys.exit()\n",
    "            \n",
    "            #每次循环时都会重绘屏幕\n",
    "            self.screen.fill(self.bg_color)\n",
    "            # 让最近绘制的屏幕可见\n",
    "            pygame.display.flip()\n",
    "            self.clock.tick(60) # tick方法接受一个参数：游戏的帧率，pygame将尽可能确保这个循环每秒运行60次。"
   ]
  }
 ],
 "metadata": {
  "kernelspec": {
   "display_name": "base",
   "language": "python",
   "name": "python3"
  },
  "language_info": {
   "codemirror_mode": {
    "name": "ipython",
    "version": 3
   },
   "file_extension": ".py",
   "mimetype": "text/x-python",
   "name": "python",
   "nbconvert_exporter": "python",
   "pygments_lexer": "ipython3",
   "version": "3.12.7"
  }
 },
 "nbformat": 4,
 "nbformat_minor": 5
}
